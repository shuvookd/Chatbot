{
  "nbformat": 4,
  "nbformat_minor": 0,
  "metadata": {
    "colab": {
      "provenance": [],
      "authorship_tag": "ABX9TyM9DFK/WeZzWS3GKhMLPtO6",
      "include_colab_link": true
    },
    "kernelspec": {
      "name": "python3",
      "display_name": "Python 3"
    },
    "language_info": {
      "name": "python"
    }
  },
  "cells": [
    {
      "cell_type": "markdown",
      "metadata": {
        "id": "view-in-github",
        "colab_type": "text"
      },
      "source": [
        "<a href=\"https://colab.research.google.com/github/shuvookd/Chatbot/blob/main/Chatbot.ipynb\" target=\"_parent\"><img src=\"https://colab.research.google.com/assets/colab-badge.svg\" alt=\"Open In Colab\"/></a>"
      ]
    },
    {
      "cell_type": "code",
      "execution_count": null,
      "metadata": {
        "id": "aS7oLmAsqUby"
      },
      "outputs": [],
      "source": [
        "import numpy as np\n",
        "import nltk\n",
        "import string\n",
        "import random"
      ]
    },
    {
      "cell_type": "code",
      "source": [
        "f =  open('/content/data.txt', 'r', errors = 'ignore')\n",
        "raw_doc = f.read()"
      ],
      "metadata": {
        "id": "iLxNMvxOs0XC"
      },
      "execution_count": null,
      "outputs": []
    },
    {
      "cell_type": "code",
      "source": [
        "raw_doc = raw_doc.lower()\n",
        "nltk.download('punkt')\n",
        "nltk.download('wordnet')\n",
        "nltk.download('omw-1.4')\n",
        "sentence_tokens = nltk.sent_tokenize(raw_doc)\n",
        "word_tokens = nltk.word_tokenize(raw_doc)\n"
      ],
      "metadata": {
        "colab": {
          "base_uri": "https://localhost:8080/"
        },
        "id": "SrugG8x6tfU3",
        "outputId": "3b81b758-dee8-44a4-9a56-e712af34b0b4"
      },
      "execution_count": null,
      "outputs": [
        {
          "output_type": "stream",
          "name": "stderr",
          "text": [
            "[nltk_data] Downloading package punkt to /root/nltk_data...\n",
            "[nltk_data]   Package punkt is already up-to-date!\n",
            "[nltk_data] Downloading package wordnet to /root/nltk_data...\n",
            "[nltk_data]   Package wordnet is already up-to-date!\n",
            "[nltk_data] Downloading package omw-1.4 to /root/nltk_data...\n",
            "[nltk_data]   Package omw-1.4 is already up-to-date!\n"
          ]
        }
      ]
    },
    {
      "cell_type": "code",
      "source": [
        "raw_doc"
      ],
      "metadata": {
        "colab": {
          "base_uri": "https://localhost:8080/",
          "height": 179
        },
        "id": "ufuy5pWGuNx_",
        "outputId": "fb786c37-c87e-47c8-8254-c5f0a0b18027"
      },
      "execution_count": null,
      "outputs": [
        {
          "output_type": "execute_result",
          "data": {
            "text/plain": [
              "'jump to content\\ntoggle sidebar\\n\\nwikipediathe free encyclopedia\\nsearch wikipedia\\ncreate account\\nlog in\\n\\npersonal tools\\n\\nphotograph your local culture, help wikipedia and win!hide\\ncontents hide\\n(top)\\nbackground\\ndevelopment\\napplication\\n\\nmessaging apps\\nas part of company apps and websites\\nchatbot sequences\\ncompany internal platforms\\ncustomer service\\nhealthcare\\npolitics\\ntoys\\nmalicious use\\nlimitations of chatbots\\nchatbots and jobs\\nsee also\\nreferences\\n\\nbibliography\\nfurther reading\\nexternal links\\nchatbot\\n\\narticle\\ntalk\\nread\\nedit\\nview history\\nfrom wikipedia, the free encyclopedia\\nfor other uses, see chatbot (disambiguation).\\n\\nparts of this article (those related to everything) need to be updated. the reason given is: this article is using citations from 1970 and virtually all claims about conversational capabilities are at least ten years out of date (for example the turing test was arguably made obsolete years ago by transformer models). please help update this article to reflect recent events or newly available information. (february 2023)\\n\\na virtual assistant chatbot\\n\\nthe 1966 eliza chatbot\\na chatbot or chatterbot is a software application used to conduct an online chat conversation via text or text-to-speech, in lieu of providing direct contact with a live human agent.[1][2] chatbots are computer programs that are capable of maintaining a conversation with a user in natural language, understanding their intent, and replying based on preset rules and data. designed to convincingly simulate the way a human would behave as a conversational partner, chatbot systems typically require continuous tuning and testing with many in production unable to adequately converse; in 2012 none of them could pass the standard turing test.[3] the term \"chatterbot\" was originally coined by michael mauldin (creator of the first verbot) in 1994 to describe these conversational programs.[4]\\n\\nchatbots are used in dialog systems for various purposes including customer service, request routing, or information gathering. while some chatbot applications use extensive word-classification processes, natural-language processors, and sophisticated ai, others simply scan for general keywords and generate responses using common phrases obtained from an associated library or database.\\n\\nmost chatbots are accessed on-line via website popups or through virtual assistants. they can be classified into usage categories that include: commerce (e-commerce via chat), education, entertainment, finance, health, news, and productivity.[5]\\n\\nbackground\\nin 1950, alan turing\\'s famous article \"computing machinery and intelligence\" was published,[6] which proposed what is now called the turing test as a criterion of intelligence. this criterion depends on the ability of a computer program to impersonate a human in a real-time written conversation with a human judge to the extent that the judge is unable to distinguish reliably—on the basis of the conversational content alone—between the program and a real human. the notoriety of turing\\'s proposed test stimulated great interest in joseph weizenbaum\\'s program eliza, published in 1966, which seemed to be able to fool users into believing that they were conversing with a real human. however weizenbaum himself did not claim that eliza was genuinely intelligent, and the introduction to his paper presented it more as a debunking exercise:\\n\\n[in] artificial intelligence ... machines are made to behave in wondrous ways, often sufficient to dazzle even the most experienced observer. but once a particular program is unmasked, once its inner workings are explained ... its magic crumbles away; it stands revealed as a mere collection of procedures ... the observer says to himself \"i could have written that\". with that thought, he moves the program in question from the shelf marked \"intelligent\", to that reserved for curios ... the object of this paper is to cause just such a re-evaluation of the program about to be \"explained\". few programs ever needed it more.[7]\\n\\neliza\\'s key method of operation (copied by chatbot designers ever since) involves the recognition of clue words or phrases in the input, and the output of the corresponding pre-prepared or pre-programmed responses that can move the conversation forward in an apparently meaningful way (e.g. by responding to any input that contains the word \\'mother\\' with \\'tell me more about your family\\').[8] thus an illusion of understanding is generated, even though the processing involved has been merely superficial. eliza showed that such an illusion is surprisingly easy to generate because human judges are so ready to give the benefit of the doubt when conversational responses are capable of being interpreted as \"intelligent\".\\n\\ninterface designers have come to appreciate that humans\\' readiness to interpret computer output as genuinely conversational—even when it is actually based on rather simple pattern-matching—can be exploited for useful purposes. most people prefer to engage with programs that are human-like, and this gives chatbot-style techniques a potentially useful role in interactive systems that need to elicit information from users, as long as that information is relatively straightforward and falls into predictable categories. thus, for example, online help systems can usefully employ chatbot techniques to identify the area of help that users require, potentially providing a \"friendlier\" interface than a more formal search or menu system. this sort of usage holds the prospect of moving chatbot technology from weizenbaum\\'s \"shelf ... reserved for curios\" to that marked \"genuinely useful computational methods\".\\n\\ndevelopment\\namong the most notable early chatbots are eliza (1966) and parry (1972).[9][10][11][12] more recent notable programs include a.l.i.c.e., jabberwacky and d.u.d.e (agence nationale de la recherche and cnrs 2006). while eliza and parry were used exclusively to simulate typed conversation, many chatbots now include other functional features, such as games and web searching abilities. in 1984, a book called the policeman\\'s beard is half constructed was published, allegedly written by the chatbot racter (though the program as released would not have been capable of doing so).[13]\\n\\none pertinent field of ai research is natural-language processing. usually, weak ai fields employ specialized software or programming languages created specifically for the narrow function required. for example, a.l.i.c.e. uses a markup language called aiml,[2] which is specific to its function as a conversational agent, and has since been adopted by various other developers of, so-called, alicebots. nevertheless, a.l.i.c.e. is still purely based on pattern matching techniques without any reasoning capabilities, the same technique eliza was using back in 1966. this is not strong ai, which would require sapience and logical reasoning abilities.\\n\\njabberwacky learns new responses and context based on real-time user interactions, rather than being driven from a static database. some more recent chatbots also combine real-time learning with evolutionary algorithms that optimize their ability to communicate based on each conversation held. still, there is currently no general purpose conversational artificial intelligence, and some software developers focus on the practical aspect, information retrieval.\\n\\nchatbot competitions focus on the turing test or more specific goals. two such annual contests are the loebner prize and the chatterbox challenge (the latter has been offline since 2015, however, materials can still be found from web archives).[14]\\n\\nchatbots may use the generative pre-trained transformer (gpt) language model. it uses the transformer machine learning model. the \"pre-training\" in its name refers to the initial training process on a large text corpus, which provides a solid foundation for the model to perform well on downstream tasks with limited amounts of task-specific data. an example of a gpt chatbot is chatgpt. despite criticism of its accuracy, chatgpt has gained attention for its detailed responses and historical knowledge. another example is biogpt, developed by microsoft, which focuses on answering biomedical questions.[15][16]\\n\\ndbpedia created a chatbot during the gsoc of 2017.[17][18][19] it can communicate through facebook messenger.\\n\\napplication\\nsee also: virtual assistant\\nmessaging apps\\nmany companies\\' chatbots run on messaging apps or simply via sms. they are used for b2c customer service, sales and marketing.[20]\\n\\nin 2016, facebook messenger allowed developers to place chatbots on their platform. there were 30,000 bots created for messenger in the first six months, rising to 100,000 by september 2017.[21]\\n\\nsince september 2017, this has also been as part of a pilot program on whatsapp. airlines klm and aeroméxico both announced their participation in the testing;[22][23][24][25] both airlines had previously launched customer services on the facebook messenger platform.\\n\\nthe bots usually appear as one of the user\\'s contacts, but can sometimes act as participants in a group chat.\\n\\nmany banks, insurers, media companies, e-commerce companies, airlines, hotel chains, retailers, health care providers, government entities and restaurant chains have used chatbots to answer simple questions, increase customer engagement,[26] for promotion, and to offer additional ways to order from them.[27]\\n\\na 2017 study showed 4% of companies used chatbots.[28] according to a 2016 study, 80% of businesses said they intended to have one by 2020.[29]\\n\\nas part of company apps and websites\\nprevious generations of chatbots were present on company websites, e.g. ask jenn from alaska airlines which debuted in 2008[30] or expedia\\'s virtual customer service agent which launched in 2011.[30][31] the newer generation of chatbots includes ibm watson-powered \"rocky\", introduced in february 2017 by the new york city-based e-commerce company rare carat to provide information to prospective diamond buyers.[32][33]\\n\\nchatbot sequences\\nused by marketers to script sequences of messages, very similar to an autoresponder sequence. such sequences can be triggered by user opt-in or the use of keywords within user interactions. after a trigger occurs a sequence of messages is delivered until the next anticipated user response. each user response is used in the decision tree to help the chatbot navigate the response sequences to deliver the correct response message.\\n\\ncompany internal platforms\\nother companies explore ways they can use chatbots internally, for example for customer support, human resources, or even in internet-of-things (iot) projects. overstock.com, for one, has reportedly launched a chatbot named mila to automate certain simple yet time-consuming processes when requesting sick leave.[34] other large companies such as lloyds banking group, royal bank of scotland, renault and citroën are now using automated online assistants instead of call centres with humans to provide a first point of contact. a saas chatbot business ecosystem has been steadily growing since the f8 conference when facebook\\'s mark zuckerberg unveiled that messenger would allow chatbots into the app.[35] in large companies, like in hospitals and aviation organizations, it architects are designing reference architectures for intelligent chatbots that are used to unlock and share knowledge and experience in the organization more efficiently, and reduce the errors in answers from expert service desks significantly.[36] these intelligent chatbots make use of all kinds of artificial intelligence like image moderation and natural-language understanding (nlu), natural-language generation (nlg), machine learning and deep learning.\\n\\ncustomer service\\nmany high-tech banking organizations are looking to integrate automated ai-based solutions such as chatbots into their customer service in order to provide faster and cheaper assistance to their clients who are becoming increasingly comfortable with technology. in particular, chatbots can efficiently conduct a dialogue, usually replacing other communication tools such as email, phone, or sms. in banking, their major application is related to quick customer service answering common requests, as well as transactional support.\\n\\nseveral studies report significant reduction in the cost of customer services, expected to lead to billions of dollars of economic savings in the next ten years.[37] in 2019, gartner predicted that by 2021, 15% of all customer service interactions globally will be handled completely by ai.[38] a study by juniper research in 2019 estimates retail sales resulting from chatbot-based interactions will reach $112 billion by 2023.[39]\\n\\nsince 2016, when facebook allowed businesses to deliver automated customer support, e-commerce guidance, content, and interactive experiences through chatbots, a large variety of chatbots were developed for the facebook messenger platform.[40]\\n\\nin 2016, russia-based tochka bank launched the world\\'s first facebook bot for a range of financial services, including a possibility of making payments.[41]\\n\\nin july 2016, barclays africa also launched a facebook chatbot, making it the first bank to do so in africa.[42]\\n\\nthe france\\'s third-largest bank by total assets[43] société générale launched their chatbot called sobot in march 2018. while 80% of users of the sobot expressed their satisfaction after having tested it, société générale deputy director bertrand cozzarolo stated that it will never replace the expertise provided by a human advisor. [44]\\n\\nthe advantages of using chatbots for customer interactions in banking include cost reduction, financial advice, and 24/7 support.[45][46]\\n\\nhealthcare\\nsee also: artificial intelligence in healthcare\\nchatbots are also appearing in the healthcare industry.[47][48] a study suggested that physicians in the united states believed that chatbots would be most beneficial for scheduling doctor appointments, locating health clinics, or providing medication information.[49]\\n\\nwhatsapp has teamed up with the world health organisation (who) to make a chatbot service that answers users’ questions on covid-19.[50]\\n\\nin 2020, the indian government launched a chatbot called mygov corona helpdesk,[51] that worked through whatsapp and helped people access information about the coronavirus (covid-19) pandemic.[52][53]\\n\\ncertain patient groups are still reluctant to use chatbots. a mixed-methods study showed that people are still hesitant to use chatbots for their healthcare due to poor understanding of the technological complexity, the lack of empathy, and concerns about cyber-security.[54] the analysis showed that while 6% had heard of a health chatbot and 3% had experience of using it, 67% perceived themselves as likely to use one within 12 months. the majority of participants would use a health chatbot for seeking general health information (78%), booking a medical appointment (78%), and looking for local health services (80%). however, a health chatbot was perceived as less suitable for seeking results of medical tests and seeking specialist advice such as sexual health. the analysis of attitudinal variables showed that most participants reported their preference for discussing their health with doctors (73%) and having access to reliable and accurate health information (93%). while 80% were curious about new technologies that could improve their health, 66% reported only seeking a doctor when experiencing a health problem and 65% thought that a chatbot was a good idea. interestingly, 30% reported dislike about talking to computers, 41% felt it would be strange to discuss health matters with a chatbot and about half were unsure if they could trust the advice given by a chatbot. therefore, perceived trustworthiness, individual attitudes towards bots, and dislike for talking to computers are the main barriers to health chatbots.\\n\\npolitics\\nsee also: government by algorithm § ai politicians\\nin new zealand, the chatbot sam – short for semantic analysis machine[55] (made by nick gerritsen of touchtech[56]) – has been developed. it is designed to share its political thoughts, for example on topics such as climate change, healthcare and education, etc. it talks to people through facebook messenger.[57][58][59][60]\\n\\nin 2022, the chatbot \"leader lars\" or \"leder lars\" was nominated for the synthetic party to run in the danish parliamentary election,[61] and was built by the artist collective computer lars.[62] leader lars differed from earlier virtual politicians by leading a political party and by not pretending to be an objective candidate.[63] this chatbot engaged in critical discussions on politics with users from around the world.[64]\\n\\nin india, the state government has launched a chatbot for its aaple sarkar platform,[65] which provides conversational access to information regarding public services managed.[66][67]\\n\\ntoys\\nchatbots have also been incorporated into devices not primarily meant for computing, such as toys.[68]\\n\\nhello barbie is an internet-connected version of the doll that uses a chatbot provided by the company toytalk,[69] which previously used the chatbot for a range of smartphone-based characters for children.[70] these characters\\' behaviors are constrained by a set of rules that in effect emulate a particular character and produce a storyline.[71]\\n\\nthe my friend cayla doll was marketed as a line of 18-inch (46 cm) dolls which uses speech recognition technology in conjunction with an android or ios mobile app to recognize the child\\'s speech and have a conversation. it, like the hello barbie doll, attracted controversy due to vulnerabilities with the doll\\'s bluetooth stack and its use of data collected from the child\\'s speech.\\n\\nibm\\'s watson computer has been used as the basis for chatbot-based educational toys for companies such as cognitoys[68] intended to interact with children for educational purposes.[72]\\n\\nmalicious use\\nmalicious chatbots are frequently used to fill chat rooms with spam and advertisements, by mimicking human behavior and conversations or to entice people into revealing personal information, such as bank account numbers. they were commonly found on yahoo! messenger, windows live messenger, aol instant messenger and other instant messaging protocols. there has also been a published report of a chatbot used in a fake personal ad on a dating service\\'s website.[73]\\n\\ntay, an ai chatbot that learns from previous interaction, caused major controversy due to it being targeted by internet trolls on twitter. the bot was exploited, and after 16 hours began to send extremely offensive tweets to users. this suggests that although the bot learned effectively from experience, adequate protection was not put in place to prevent misuse.[74]\\n\\nif a text-sending algorithm can pass itself off as a human instead of a chatbot, its message would be more credible. therefore, human-seeming chatbots with well-crafted online identities could start scattering fake news that seems plausible, for instance making false claims during an election. with enough chatbots, it might be even possible to achieve artificial social proof.[75][76]\\n\\nlimitations of chatbots\\nthe creation and implementation of chatbots is still a developing area, heavily related to artificial intelligence and machine learning, so the provided solutions, while possessing obvious advantages, have some important limitations in terms of functionalities and use cases. however, this is changing over time.\\n\\nthe most common limitations are listed below:[77]\\n\\nas the input/output database is fixed and limited, chatbots can fail while dealing with an unsaved query.[46]\\na chatbot\\'s efficiency highly depends on language processing and is limited because of irregularities, such as accents and mistakes.\\nchatbots are unable to deal with multiple questions at the same time and so conversation opportunities are limited.[77]\\nchatbots require a large amount of conversational data to train. generative models, which are based on deep learning algorithms to generate new responses word by word based on user input, are usually trained on a large dataset of natural-language phrases.[2]\\nchatbots have difficulty managing non-linear conversations that must go back and forth on a topic with a user.[78]\\nas it happens usually with technology-led changes in existing services, some consumers, more often than not from older generations, are uncomfortable with chatbots due to their limited understanding, making it obvious that their requests are being dealt with by machines.[77]\\nchatbots and jobs\\nchatbots are increasingly present in businesses and often are used to automate tasks that do not require skill-based talents. with customer service taking place via messaging apps as well as phone calls, there are growing numbers of use-cases where chatbot deployment gives organizations a clear return on investment. call center workers may be particularly at risk from ai-driven chatbots.[79]\\n\\nchatbot jobs\\n\\nchatbot developers create, debug, and maintain applications that automate customer services or other communication processes. their duties include reviewing and simplifying code when needed. they may also help companies implement bots in their operations.\\n\\na study by forrester (june 2017) predicted that 25% of all jobs would be impacted by ai technologies by 2019.[80]\\n\\nsee also\\nicon\\tlinguistics portal\\napplications of artificial intelligence\\nartificial philosophy\\nautonomous agent\\nchatgpt (from openai)\\nconversational user interface\\neugene goostman\\nfriendly artificial intelligence\\nhybrid intelligent system\\nintelligent agent\\ninternet bot\\nlist of chatbots\\nmulti-agent system\\nnatural language processing\\nsocial bot\\nsoftware agent\\nsoftware bot\\ntwitterbot\\nvirtual assistant\\nreferences\\n \"what is a chatbot?\". techtarget.com. retrieved 30 january 2017.\\n caldarini, guendalina; jaf, sardar; mcgarry, kenneth (2022). \"a literature survey of recent advances in chatbots\". information. mdpi. 13 (1): 41. doi:10.3390/info13010041.\\n luka bradeško, dunja mladenić. \"a survey of chabot systems through a loebner prize competition\". s2cid 39745939.\\n mauldin 1994\\n \"2017 messenger bot landscape, a public spreadsheet gathering 1000+ messenger bots\". 3 may 2017.\\n (turing 1950)\\n (weizenbaum 1966, p. 36)\\n (weizenbaum 1966, pp. 44–5)\\n güzelderefranchi 1995\\n computer history museum 2006\\n sondheim 1997\\n network working group 1973—transcript of a session between parry and eliza. (this is not the dialogue from the iccc, which took place october 24–26, 1972, whereas this session is from september 18, 1972.)\\n http://everything2.com/title/the+policeman%2527s+beard+is+half+constructed 13 november 1999\\n \"chatroboter simulieren menschen\".\\n luo r, sun l, xia y, qin t, zhan,g s, poon h; et al. (2022). \"biogpt: generative pre-trained transformer for biomedical text generation and mining\". brief bioinform. 23 (6). doi:10.1093/bib/bbac409. pmid 36156661.\\n matthias bastian (2023-01-29). \"biogpt is a microsoft language model trained for biomedical tasks\". the decoder.\\n \"dbpedia chatbot\". chat.dbpedia.org.\\n \"meet the dbpedia chatbot | dbpedia\". wiki.dbpedia.org. 22 august 2018.\\n \"meet the dbpedia chatbot\". august 22, 2018.\\n beaver, laurie (july 2016). the chatbots explainer. bi intelligence.\\n \"facebook messenger hits 100,000 bots\". 2017-04-18. retrieved 2017-09-22.\\n \"klm claims airline first with whatsapp business platform\". www.phocuswire.com.\\n forbes staff (26 october 2017). \"aeroméxico te atenderá por whatsapp durante 2018\". retrieved 2 july 2018.\\n redacción (27 october 2017). \"podrás hacer \\'check in\\' y consultar tu vuelo con aeroméxico a través de whatsapp\". huffington post. archived from the original on 10 march 2018. retrieved 2 july 2018.\\n \"building for people, and now businesses\". whatsapp.com. retrieved 2 july 2018.\\n \"she is the company\\'s most effective employee\". nordea news.\\n \"better believe the bot boom is blowing up big for b2b, b2c businesses\". venturebeat. 2016-07-24.\\n \"the ai revolution is underway! – pm360\". www.pm360online.com. retrieved 2 july 2018.\\n \"80% of businesses want chatbots by 2020\". business insider. retrieved 2 july 2018.\\n \"a virtual travel agent with all the answers\". the new york times. 4 march 2008.\\n \"chatbot vendor directory released –\". www.hypergridbusiness.com.\\n \"rare carat\\'s watson-powered chatbot will help you put a diamond ring on it\". techcrunch. february 15, 2017.\\n \"10 ways you may have already used ibm watson\". venturebeat. march 10, 2017.\\n greenfield, rebecca (5 may 2016). \"chatbots are your newest, dumbest co-workers\". bloomberg.com.\\n \"facebook opens its messenger platform to chatbots\". 12 april 2016.\\n \"chatbot reference architecture\". 1 january 2019.\\n \"how chatbots are transforming wall street and main street banks?\". 1 april 2019.\\n \"how to manage customer service technology innovation\". www.gartner.com. archived from the original on december 11, 2019. retrieved 2020-01-02.\\n \"chatbot interactions in retail to reach 22 billion by 2023, as ai offers compelling new engagement solutions\". www.juniperresearch.com. retrieved 2020-01-02.\\n \"facebook launches messenger platform with chatbots\". 1 april 2019.\\n \"российский банк запустил чат-бота в facebook\". 1 april 2019.\\n \"absa launches \\'world-first\\' facebook messenger banking\". 1 april 2019.\\n \"the biggest french banks by total assets\". banks around the world. retrieved april 1, 2019.\\n \"gagner du temps avec le chatbot bancaire pour gagner en intelligence avec les conseillers\". marketing client. retrieved april 1, 2019.\\n \"meet 11 of the most interesting chatbots in banking\". the financial brain. 14 march 2018. retrieved april 1, 2019.\\n \"chatbots: boon or bane?\". bluelupin. 9 january 2018. retrieved april 1, 2019.\\n larson, selena (october 11, 2016). \"baidu is bringing ai chatbots to healthcare\". cnn money.\\n \"ai chatbots have a future in healthcare, with caveats\". ai in healthcare.\\n palanica, adam; flaschner, peter; thommandram, anirudh; li, michael; fossat, yan (january 3, 2019). \"physicians\\' perceptions of chatbots in health care: cross-sectional web-based survey\". journal of medical internet research. 21 (4): e12887. doi:10.2196/12887. pmc 6473203. pmid 30950796.\\n ahaskar, abhijit (2020-03-27). \"how whatsapp chatbots are helping in the fight against covid-19\". mint. retrieved 2020-07-23.\\n \"india\\'s coronavirus chatbot on whatsapp crosses 1.7 crore users in 10 days\". ndtv gadgets 360. retrieved 2020-07-23.\\n kurup, rajesh (21 march 2020). \"covid-19: govt of india launches a whatsapp chatbot\". business line. retrieved 2020-07-23.\\n \"in focus: mumbai-based haptik which developed india\\'s official whatsapp chatbot for covid-19\". hindustan times. 7 april 2020. retrieved 2020-07-23.\\n nadarzynski, tom; miles, oliver; cowie, aimee; ridge, damien (january 1, 2019). \"acceptability of artificial intelligence (ai)-led chatbot services in healthcare: a mixed-methods study\". digital health. 5: 2055207619871808. doi:10.1177/2055207619871808. pmc 6704417. pmid 31467682.\\n \"sam, the virtual politician\". tuia innovation.\\n wellington, victoria university of (december 15, 2017). \"meet the world\\'s first virtual politician\". victoria university of wellington.\\n wagner, meg (23 november 2017). \"this virtual politician wants to run for office\". cnn.\\n \"talk with the first-ever robot politician on facebook messenger\". engadget.\\n prakash, abishur (august 8, 2018). \"ai-politicians: a revolution in politics\". medium.\\n sam website\\n sternberg, sarah (20 june 2022). \"danskere vil ind på den politiske scene med kunstig intelligens\" [danes want to enter the political scene with artificial intelligence]. jyllands-posten. retrieved 2022-06-20.\\n diwakar, amar (2022-08-22). \"can an ai-led danish party usher in an age of algorithmic politics?\". trt world. retrieved 2022-08-22.\\n xiang, chloe (13 october 2022). \"this danish political party is led by an ai\". vice: motherboard. retrieved 2022-10-13.\\n hearing, alice (14 october 2022). \"a.i. chatbot is leading a danish political party and setting its policies. now users are grilling it for its stance on political landmines\". fortune.\\n \"maharashtra government launches aaple sarkar chatbot to provide info on 1,400 public services\". cnbc tv18. 5 march 2019. retrieved 2020-07-23.\\n \"government of maharashtra launches aaple sarkar chatbot with haptik\". the economic times. retrieved 2020-07-23.\\n aggarwal, varun (5 march 2019). \"maharashtra launches aaple sarkar chatbot\". business line. retrieved 2020-07-23.\\n amy (2015-02-23). \"conversational toys – the latest trend in speech technology\". virtual agent chat. archived from the original on 2018-02-21. retrieved 2016-08-11.\\n nagy, evie (13 february 2015). \"using toy-talk technology, new hello barbie will have real conversations with kids\". fast company. retrieved 18 march 2015.\\n oren jacob, the co-founder and ceo of toytalk interviewed on the tv show triangulation on the twit.tv network\\n \"artificial intelligence script tool\".\\n takahashi, dean (23 february 2015). \"elemental\\'s smart connected toy taps ibm\\'s watson supercomputer for its brains\". venture beat. retrieved 15 may 2015.\\n \"from russia with love\" (pdf). retrieved 2007-12-09. psychologist and scientific american: mind contributing editor robert epstein reports how he was initially fooled by a chatterbot posing as an attractive girl in a personal ad he answered on a dating website. in the ad, the girl portrayed herself as being in southern california and then soon revealed, in poor english, that she was actually in russia. he became suspicious after a couple of months of email exchanges, sent her an email test of gibberish, and she still replied in general terms. the dating website is not named. scientific american: mind, october–november 2007, page 16–17, \"from russia with love: how i got fooled (and somewhat humiliated) by a computer\". also available online.\\n bird, jordan j.; ekart, aniko; faria, diego r. (june 2018). learning from interaction: an intelligent networked-based human-bot and bot-bot chatbot system in: advances in computational intelligence systems (1st ed.). nottingham, uk: springer. pp. 179–190. doi:10.1007/978-3-319-97982-3_15. isbn 978-3-319-97982-3. s2cid 52069140.\\n \"fake news\". 20 november 2018. retrieved 2018-11-20.\\n \"malicious uses\". retrieved 2016-05-11.\\n \"meet 11 of the most interesting chatbots in banking\". 14 march 2018. retrieved 2019-04-01.\\n grudin, jonathan; jacques, richard (2019), \"chatbots, humbots, and the quest for artificial general intelligence\", proceedings of the 2019 chi conference on human factors in computing systems – chi \\'19, acm chi 2020, pp. 209–219, doi:10.1145/3290605.3300439, isbn 978-1-4503-5970-2, s2cid 140274744\\n \"how talking machines are taking call center jobs\". bbc news. 23 august 2018. retrieved 2019-04-01.\\n \"how chatbots are killing jobs (and creating new ones)\". june 2017. retrieved 2019-04-01.\\nbibliography\\ncomputer history museum (2006), \"internet history—1970\\'s\", exhibits, computer history museum, archived from the original on 2008-02-21, retrieved 2008-03-05\\ngüzeldere, güven; franchi, stefano (1995-07-24), \"constructions of the mind\", stanford humanities review, sehr, stanford university, 4 (2), retrieved 2008-03-05\\nmauldin, michael (1994), \"chatterbots, tinymuds, and the turing test: entering the loebner prize competition\", proceedings of the eleventh national conference on artificial intelligence, aaai press, retrieved 2008-03-05 (abstract)\\nnetwork working group (1973), \"rfc 439, parry encounters the doctor\", internet engineering task force, internet society, doi:10.17487/rfc0439, retrieved 2008-03-05\\nsondheim, alan j (1997), <nettime> important documents from the early internet (1972), nettime.org, archived from the original on 2008-06-13, retrieved 2008-03-05\\nturing, alan (1950), \"computing machinery and intelligence\", mind, 59 (236): 433–60, doi:10.1093/mind/lix.236.433\\nweizenbaum, joseph (january 1966), \"eliza—a computer program for the study of natural language communication between man and machine\", communications of the acm, 9 (1): 36–45, doi:10.1145/365153.365168, s2cid 1896290\\nfurther reading\\nsearle, john (1980), \"minds, brains and programs\", behavioral and brain sciences, 3 (3): 417–457, doi:10.1017/s0140525x00005756, s2cid 55303721\\nshevat, amir (2017). designing bots: creating conversational experiences (first ed.). sebastopol, ca: o\\'reilly media. isbn 978-1-4919-7482-7. oclc 962125282.\\nexternal links\\n media related to chatbots at wikimedia commons\\n conversational bots at wikibooks\\nvte\\nnatural language processing\\nportal:\\nicon language\\nauthority control: national libraries edit this at wikidata\\t\\ngermanyczech republic\\ncategories: chatbotsinstant messaginginteractive narrativenatural language parsing\\nthis page was last edited on 13 february 2023, at 15:45 (utc).\\ntext is available under the creative commons attribution-sharealike license 3.0; additional terms may apply. by using this site, you agree to the terms of use and privacy policy. wikipedia® is a registered trademark of the wikimedia foundation, inc., a non-profit organization.\\nprivacy policyabout wikipediadisclaimerscontact wikipediamobile viewdevelopersstatisticscookie statementwikimedia foundationpowered by mediawikitoggle limited content width\\n'"
            ],
            "application/vnd.google.colaboratory.intrinsic+json": {
              "type": "string"
            }
          },
          "metadata": {},
          "execution_count": 36
        }
      ]
    },
    {
      "cell_type": "code",
      "source": [
        "sentence_tokens = nltk.sent_tokenize(raw_doc)\n",
        "word_tokens = nltk.word_tokenize(raw_doc)"
      ],
      "metadata": {
        "id": "2rJF1Qs9vEIq"
      },
      "execution_count": null,
      "outputs": []
    },
    {
      "cell_type": "markdown",
      "source": [
        "After tokenization"
      ],
      "metadata": {
        "id": "YxbIifZsvlF4"
      }
    },
    {
      "cell_type": "code",
      "source": [
        "sentence_tokens[:5]"
      ],
      "metadata": {
        "colab": {
          "base_uri": "https://localhost:8080/"
        },
        "id": "2AwQkyeCvhoo",
        "outputId": "1838a043-266e-4ce8-b1db-59a54cafe62a"
      },
      "execution_count": null,
      "outputs": [
        {
          "output_type": "execute_result",
          "data": {
            "text/plain": [
              "['jump to content\\ntoggle sidebar\\n\\nwikipediathe free encyclopedia\\nsearch wikipedia\\ncreate account\\nlog in\\n\\npersonal tools\\n\\nphotograph your local culture, help wikipedia and win!hide\\ncontents hide\\n(top)\\nbackground\\ndevelopment\\napplication\\n\\nmessaging apps\\nas part of company apps and websites\\nchatbot sequences\\ncompany internal platforms\\ncustomer service\\nhealthcare\\npolitics\\ntoys\\nmalicious use\\nlimitations of chatbots\\nchatbots and jobs\\nsee also\\nreferences\\n\\nbibliography\\nfurther reading\\nexternal links\\nchatbot\\n\\narticle\\ntalk\\nread\\nedit\\nview history\\nfrom wikipedia, the free encyclopedia\\nfor other uses, see chatbot (disambiguation).',\n",
              " 'parts of this article (those related to everything) need to be updated.',\n",
              " 'the reason given is: this article is using citations from 1970 and virtually all claims about conversational capabilities are at least ten years out of date (for example the turing test was arguably made obsolete years ago by transformer models).',\n",
              " 'please help update this article to reflect recent events or newly available information.',\n",
              " '(february 2023)\\n\\na virtual assistant chatbot\\n\\nthe 1966 eliza chatbot\\na chatbot or chatterbot is a software application used to conduct an online chat conversation via text or text-to-speech, in lieu of providing direct contact with a live human agent.']"
            ]
          },
          "metadata": {},
          "execution_count": 38
        }
      ]
    },
    {
      "cell_type": "code",
      "source": [
        "word_tokens[:5]"
      ],
      "metadata": {
        "colab": {
          "base_uri": "https://localhost:8080/"
        },
        "id": "s8vWRIBbvvsI",
        "outputId": "d542254c-73b1-4983-9ef8-e6f50d481cd7"
      },
      "execution_count": null,
      "outputs": [
        {
          "output_type": "execute_result",
          "data": {
            "text/plain": [
              "['jump', 'to', 'content', 'toggle', 'sidebar']"
            ]
          },
          "metadata": {},
          "execution_count": 39
        }
      ]
    },
    {
      "cell_type": "code",
      "source": [
        "lemmer = nltk.stem.WordNetLemmatizer()\n",
        "def LemTokens(tokens):\n",
        "    return [lemmer.lemmatize(token) for token in tokens]\n",
        "remove_punc_dict = dict((ord(punct), None) for punct in string.punctuation)\n",
        "\n",
        "def LemNormalize(text):\n",
        "    return LemTokens(nltk.word_tokenize(text.lower().translate(remove_punc_dict)))"
      ],
      "metadata": {
        "id": "75jm3FPMv_La"
      },
      "execution_count": null,
      "outputs": []
    },
    {
      "cell_type": "code",
      "source": [
        "greet_inputs = (' hello', ' hi', ' whassup', ' how are you?')\n",
        "greet_responses = (' hi', ' Hey', ' Hey There!', ' Hi There!')\n",
        "def greet(sentence):\n",
        "    for word in sentence.split():\n",
        "        if word.lower() in greet_inputs:\n",
        "            return random.choice(greet_responses)"
      ],
      "metadata": {
        "id": "qaGlhaRwxWot"
      },
      "execution_count": null,
      "outputs": []
    },
    {
      "cell_type": "code",
      "source": [
        "from sklearn.feature_extraction.text import TfidfVectorizer\n",
        "from sklearn.metrics.pairwise import cosine_similarity"
      ],
      "metadata": {
        "id": "0gyjVz-f3p9i"
      },
      "execution_count": null,
      "outputs": []
    },
    {
      "cell_type": "code",
      "source": [
        "def response(user_response):\n",
        "    robo1_response = ''\n",
        "    TfidfVec = TfidfVectorizer(tokenizer = LemNormalize, stop_words = 'english')\n",
        "    tfidf = TfidfVec.fit_transform(sentence_tokens)\n",
        "    vals = cosine_similarity(tfidf[-1], tfidf)\n",
        "    idx = vals.argsort()[0][-2]\n",
        "    flat = vals.flatten()\n",
        "    flat.sort()\n",
        "    req_tfidf = flat[-2]\n",
        "    if (req_tfidf == 0):\n",
        "        robo1_response = robo1_response + \"I am sorry. Unable to understand you!\"\n",
        "        return robo1_response\n",
        "    else:\n",
        "        robo1_response = robo1_response + sentence_tokens[idx]\n",
        "        return robo1_response"
      ],
      "metadata": {
        "id": "w_8e5X874NyU"
      },
      "execution_count": null,
      "outputs": []
    },
    {
      "cell_type": "code",
      "source": [
        "flag = True\n",
        "print('Hello! I am Bot. Start Typing Your Text after greeting to talk me.For ending conversation type Bye!')\n",
        "while(flag == True):\n",
        "    user_response = input()\n",
        "    user_response = user_response.lower()\n",
        "    if(user_response != 'bye'):\n",
        "        if(user_response == 'thank you' or user_response == 'thanks'):\n",
        "            flag = False\n",
        "            print('Bot: You are welcome..')\n",
        "        else:\n",
        "            if(greet(user_response) != None):\n",
        "                print('Bot '+ greet(user_response))\n",
        "            else:\n",
        "                sentence_tokens.append(user_response)\n",
        "                word_tokens = word_tokens + nltk.word_tokenize(user_response)\n",
        "                final_words = list(set(word_tokens))\n",
        "                print('Bot: ', end = '')\n",
        "                print(response(user_response))\n",
        "                sentence_tokens.remove(user_response)\n",
        "    else:\n",
        "        flag = False\n",
        "        print('Bot: Goodbye!')\n",
        "\n"
      ],
      "metadata": {
        "colab": {
          "base_uri": "https://localhost:8080/"
        },
        "id": "YYFEYVqd61YZ",
        "outputId": "eded0ac9-f5e1-4ae6-8b3e-c08f6be39450"
      },
      "execution_count": null,
      "outputs": [
        {
          "output_type": "stream",
          "name": "stdout",
          "text": [
            "Hello! I am Bot. Start Typing Your Text after greeting to talk me.For ending conversation type Bye!\n",
            "A chatbot or chatterbot\n",
            "Bot: (february 2023)\n",
            "\n",
            "a virtual assistant chatbot\n",
            "\n",
            "the 1966 eliza chatbot\n",
            "a chatbot or chatterbot is a software application used to conduct an online chat conversation via text or text-to-speech, in lieu of providing direct contact with a live human agent.\n",
            " Alan Turing\n",
            "Bot: [5]\n",
            "\n",
            "background\n",
            "in 1950, alan turing's famous article \"computing machinery and intelligence\" was published,[6] which proposed what is now called the turing test as a criterion of intelligence.\n",
            "DBpedia created a chatbot during the GSoC of 2017\n",
            "Bot: [15][16]\n",
            "\n",
            "dbpedia created a chatbot during the gsoc of 2017.\n",
            "hi\n",
            "Bot: I am sorry. Unable to understand you!\n",
            "Facebook Messenger\n",
            "Bot: \"facebook launches messenger platform with chatbots\".\n",
            "artificial intelligence\n",
            "Bot: \"acceptability of artificial intelligence (ai)-led chatbot services in healthcare: a mixed-methods study\".\n",
            "Facebook Messenger\n",
            "Bot: \"facebook launches messenger platform with chatbots\".\n"
          ]
        }
      ]
    }
  ]
}